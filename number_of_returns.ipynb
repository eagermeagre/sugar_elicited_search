{
 "cells": [
  {
   "cell_type": "code",
   "execution_count": 1,
   "metadata": {},
   "outputs": [],
   "source": [
    "from __future__ import print_function\n",
    "import matplotlib.pyplot as plt\n",
    "from scipy.stats import mannwhitneyu\n",
    "import scipy.io as spio\n",
    "import scipy.interpolate as spin\n",
    "from scipy.linalg import norm\n",
    "from numpy import *\n",
    "from scipy.spatial.distance import cdist\n",
    "import sys\n",
    "import os\n",
    "import pickle\n",
    "import pandas as pd\n",
    "import operator\n",
    "import matplotlib.pyplot as plt\n",
    "from matplotlib.patches import Ellipse,Circle"
   ]
  },
  {
   "cell_type": "code",
   "execution_count": 8,
   "metadata": {
    "scrolled": true
   },
   "outputs": [
    {
     "name": "stdout",
     "output_type": "stream",
     "text": [
      "0\n",
      "0\n",
      "2\n",
      "2\n",
      "0\n",
      "0\n",
      "1\n",
      "0\n",
      "0\n",
      "0\n"
     ]
    },
    {
     "ename": "KeyError",
     "evalue": "'timestamps'",
     "output_type": "error",
     "traceback": [
      "\u001b[1;31m---------------------------------------------------------------------------\u001b[0m",
      "\u001b[1;31mKeyError\u001b[0m                                  Traceback (most recent call last)",
      "Input \u001b[1;32mIn [8]\u001b[0m, in \u001b[0;36m<cell line: 34>\u001b[1;34m()\u001b[0m\n\u001b[0;32m     43\u001b[0m filenamelist\u001b[38;5;241m.\u001b[39mappend(fname)\n\u001b[0;32m     46\u001b[0m count\u001b[38;5;241m=\u001b[39mcount\u001b[38;5;241m+\u001b[39m\u001b[38;5;241m1\u001b[39m\n\u001b[1;32m---> 48\u001b[0m timestamps\u001b[38;5;241m=\u001b[39mndarray\u001b[38;5;241m.\u001b[39mflatten(\u001b[43mdata\u001b[49m\u001b[43m[\u001b[49m\u001b[38;5;124;43m'\u001b[39;49m\u001b[38;5;124;43mtimestamps\u001b[39;49m\u001b[38;5;124;43m'\u001b[39;49m\u001b[43m]\u001b[49m)\n\u001b[0;32m     50\u001b[0m \u001b[38;5;28;01mfor\u001b[39;00m key \u001b[38;5;129;01min\u001b[39;00m data\u001b[38;5;241m.\u001b[39mkeys():\n\u001b[0;32m     51\u001b[0m     \u001b[38;5;28;01mif\u001b[39;00m key \u001b[38;5;129;01mnot\u001b[39;00m \u001b[38;5;129;01min\u001b[39;00m [\u001b[38;5;124m'\u001b[39m\u001b[38;5;124m__globals__\u001b[39m\u001b[38;5;124m'\u001b[39m,\u001b[38;5;124m'\u001b[39m\u001b[38;5;124m__version__\u001b[39m\u001b[38;5;124m'\u001b[39m,\u001b[38;5;124m'\u001b[39m\u001b[38;5;124m__header__\u001b[39m\u001b[38;5;124m'\u001b[39m]:\n",
      "\u001b[1;31mKeyError\u001b[0m: 'timestamps'"
     ]
    }
   ],
   "source": [
    "def return_count(distarr,rmin,rmax):\n",
    "    count=0\n",
    "    if distarr[0]<rmin:\n",
    "        inside=True\n",
    "    else:\n",
    "        inside=False\n",
    "    \n",
    "    time_counter=0\n",
    "    \n",
    "    timesteps=[]\n",
    "    feedingtime=argmax(distarr>rmin)\n",
    "    for r in distarr:\n",
    "        time_counter=time_counter+1\n",
    "        \n",
    "        if ((r<rmin) and (not inside)):\n",
    "            count=count+1\n",
    "            timesteps.append(time_counter)\n",
    "            inside=True\n",
    "        if (r>rmax) and inside:\n",
    "            inside=False\n",
    "    return(count)\n",
    "\n",
    "rlist={}\n",
    "indexlist=[]\n",
    "timelist=[]\n",
    "filenamelist=[]\n",
    "returnlist=[]\n",
    "dt=1/40\n",
    "count=0\n",
    "\n",
    "r_fly=5.8\n",
    
    "\n",
    "for dirname, dirnames, filenames in os.walk(r\"G:\CS\Light\Tracked_Videos"):\n",
    "    for filename in filenames:\n",
    "\n",
    "    \n",
    "        if filename[-3:]!='mat':\n",
    "            continue\n",
    "            \n",
    "        fname=os.path.join(dirname, filename)\n",
    "        data=spio.loadmat(fname)\n",
    "        filenamelist.append(fname)\n",
    "        \n",
    "        \n",
    "        count=count+1\n",
    "        \n",
    "        timestamps=ndarray.flatten(data['timestamps'])\n",
    "\n",
    "        for key in data.keys():\n",
    "            if key not in ['__globals__','__version__','__header__']:\n",
    "                exec(key+\"=ndarray.flatten(data['\"+key+\"'])\")\n",
    "        times=timestamps[0:x_pos.size]\n",
    "        \n",
    "        angles=angle[0:x_pos.size]\n",
    "        x_head=x_pos+r_bee*cos(angles)\n",
    "        y_head=y_pos+r_bee*sin(angles)\n",
    "        \n",
    "        x0,y0=average(x_head[0:5]),average(y_head[0:5])\n",
    "        x_nor,y_nor=x_pos-x0,y_pos-y0\n",
    "        \n",
    "        xh,yh=x_head-x0,y_head-y0\n",
    "        rh=sqrt(xh**2+yh**2)\n",
    "\n",
    "        d=cumsum(sqrt(gradient(x_nor)**2+gradient(y_nor)**2))\n",
    "        r=sqrt(x_nor**2+y_nor**2);\n",
    "        \n",
    "        vx=gradient(x_nor)\n",
    "        vy=gradient(y_nor)\n",
    "\n",
    "        v=sqrt(vx**2+vy**2)\n",
    "\n",
    "\n",
    "        ind=r/d \n",
    "        cuts= (v>0.2) & (r>90.0) #0.5, 20 for fly, 0.2, 90 bee\n",
    "        if ind[cuts].size>0:\n",
    "            index=sum(1-ind[cuts])/ind[cuts].size\n",
    "        else:\n",
    "            index=0\n",
    "            \n",
    "        indexlist.append(index)\n",
    "        timelist.append(x_pos.size)\n",
    "        \n",
    "\n",
    "    \n",
    "\n",
    "    #    print(\"%s %0.3f %d %d\"%(filename,index,stoptime*dt,staytime*dt),end='\\n')\n",
    "       # rlist[fname]=(rh,angles,x_pos,y_pos)\n",
    "        rlist[fname]=(rh,angles,x_pos,y_pos)\n",
    "        \n",
    "\n",
    "        print(return_count(rh,15,25),end='\\n')\n",
    "        returnlist.append(return_count(rh,15,25))\n",
    "\n"
   ]
  },
  {
   "cell_type": "code",
   "execution_count": null,
   "metadata": {
    "collapsed": true
   },
   "outputs": [],
   "source": []
  }
 ],
 "metadata": {
  "kernelspec": {
   "display_name": "Python 3 (ipykernel)",
   "language": "python",
   "name": "python3"
  },
  "language_info": {
   "codemirror_mode": {
    "name": "ipython",
    "version": 3
   },
   "file_extension": ".py",
   "mimetype": "text/x-python",
   "name": "python",
   "nbconvert_exporter": "python",
   "pygments_lexer": "ipython3",
   "version": "3.9.12"
  }
 },
 "nbformat": 4,
 "nbformat_minor": 2
}
